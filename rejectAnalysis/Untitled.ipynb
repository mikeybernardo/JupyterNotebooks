{
 "cells": [
  {
   "cell_type": "code",
   "execution_count": null,
   "id": "c81b4272-4481-4c49-a71a-5fca1686b9b4",
   "metadata": {},
   "outputs": [],
   "source": []
  }
 ],
 "metadata": {
  "kernelspec": {
   "display_name": "",
   "name": ""
  },
  "language_info": {
   "name": ""
  }
 },
 "nbformat": 4,
 "nbformat_minor": 5
}
