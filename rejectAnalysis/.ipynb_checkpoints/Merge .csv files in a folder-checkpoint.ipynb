{
 "cells": [
  {
   "cell_type": "markdown",
   "id": "cb8666e2",
   "metadata": {},
   "source": [
    "# Merge CSV files in a folder"
   ]
  },
  {
   "cell_type": "code",
   "execution_count": 9,
   "id": "40627d80",
   "metadata": {},
   "outputs": [
    {
     "name": "stdout",
     "output_type": "stream",
     "text": [
      "       Asset Number    DeviceID Manufacturer             Model  \\\n",
      "0          12345667  QHSCHDXC07      Philips  Digital Diagnost   \n",
      "1          12345667  QHSCHDXC07      Philips  Digital Diagnost   \n",
      "2          12345667  QHSCHDXC07      Philips  Digital Diagnost   \n",
      "3          12345667  QHSCHDXC07      Philips  Digital Diagnost   \n",
      "4          12345667  QHSCHDXC07      Philips  Digital Diagnost   \n",
      "...             ...         ...          ...               ...   \n",
      "21665           123         NaN      Siemens       Ysio X.Pree   \n",
      "21666           123         NaN      Siemens       Ysio X.Pree   \n",
      "21667           123         NaN      Siemens       Ysio X.Pree   \n",
      "21668           123         NaN      Siemens       Ysio X.Pree   \n",
      "21669           123         NaN      Siemens       Ysio X.Pree   \n",
      "\n",
      "                Image Date   Image Time Body Part  \\\n",
      "0               02/07/2020  10:39:58 AM   Wrist L   \n",
      "1               02/07/2020  10:39:25 AM   Wrist L   \n",
      "2               02/07/2020  11:19:54 AM   Wrist L   \n",
      "3               02/07/2020  11:19:18 AM   Wrist L   \n",
      "4               02/07/2020  11:18:54 AM   Wrist L   \n",
      "...                    ...          ...       ...   \n",
      "21665  2022-06-28 09:33:00          NaN     CHEST   \n",
      "21666  2022-06-28 09:53:00          NaN  SHOULDER   \n",
      "21667  2022-06-28 10:35:00          NaN    LSPINE   \n",
      "21668  2022-06-28 10:34:00          NaN    TSPINE   \n",
      "21669  2022-06-28 10:34:00          NaN    LSPINE   \n",
      "\n",
      "                                    View Exposure Index KAP (uGy.m2)    kVp  \\\n",
      "0                                Lateral            473         3.23   57.0   \n",
      "1                                     PA            243          1.5   55.0   \n",
      "2                                Lateral            615         3.05   57.0   \n",
      "3                                Lateral            565         3.05   57.0   \n",
      "4                                     PA            416         1.87   55.0   \n",
      "...                                  ...            ...          ...    ...   \n",
      "21665                  W Chest - Lateral            529          NaN  124.9   \n",
      "21666                  Shoulder - Y-View            452          NaN   72.9   \n",
      "21667  X Lumbar Spine - AP Free Detector            612          NaN   74.8   \n",
      "21668    Thoracic Spine - Lateral Supine            136          NaN   80.9   \n",
      "21669    W Lumbar Spine - Lateral Supine            426          NaN   89.7   \n",
      "\n",
      "       Exposure (mAs)  Exposure time (ms) Image Status          Reject Reason  \n",
      "0                 3.0                10.0    confirmed                    NaN  \n",
      "1                 2.0                10.0    confirmed                    NaN  \n",
      "2                 3.0                10.0     rejected       Not True Lateral  \n",
      "3                 3.0                10.0    confirmed                    NaN  \n",
      "4                 2.0                10.0    confirmed                    NaN  \n",
      "...               ...                 ...          ...                    ...  \n",
      "21665             3.8                 NaN     Rejected  03. Positioning Error  \n",
      "21666             9.5                 NaN     Rejected  03. Positioning Error  \n",
      "21667            25.1                 NaN     Rejected  03. Positioning Error  \n",
      "21668            13.5                 NaN     Rejected     06. Anatomy Cutoff  \n",
      "21669           192.6                 NaN     Rejected     06. Anatomy Cutoff  \n",
      "\n",
      "[21670 rows x 15 columns]\n"
     ]
    }
   ],
   "source": [
    "import pandas as pd\n",
    "import glob\n",
    "import os\n",
    "\n",
    "def merge_csv_files(folder_path):\n",
    "    # Get a list of all CSV files in the specified folder\n",
    "    csv_files = glob.glob(os.path.join(folder_path, \"*.csv\"))\n",
    "    \n",
    "    # List to hold DataFrames\n",
    "    df_list = []\n",
    "    \n",
    "    # Iterate over the list of CSV files\n",
    "    for file in csv_files:\n",
    "        # Read each CSV file into a DataFrame\n",
    "        df = pd.read_csv(file)\n",
    "        # Append the DataFrame to the list\n",
    "        df_list.append(df)\n",
    "    \n",
    "    # Concatenate all DataFrames in the list into a single DataFrame\n",
    "    merged_df = pd.concat(df_list, ignore_index=True)\n",
    "    \n",
    "    return merged_df\n",
    "\n",
    "# Example usage:\n",
    "folder_path = 'C:/Users/bernardm/GitHub/JupyterNotebooks/rejectAnalysis/outputdata/'  # Replace with your folder path\n",
    "merged_df = merge_csv_files(folder_path)\n",
    "\n",
    "# Optionally, save the merged DataFrame to a new CSV file\n",
    "merged_df.to_csv('merged_output.csv', index=False)"
   ]
  },
  {
   "cell_type": "code",
   "execution_count": null,
   "id": "4cba96ee",
   "metadata": {},
   "outputs": [],
   "source": []
  }
 ],
 "metadata": {
  "kernelspec": {
   "display_name": "Python 3",
   "language": "python",
   "name": "python3"
  },
  "language_info": {
   "codemirror_mode": {
    "name": "ipython",
    "version": 3
   },
   "file_extension": ".py",
   "mimetype": "text/x-python",
   "name": "python",
   "nbconvert_exporter": "python",
   "pygments_lexer": "ipython3",
   "version": "3.8.8"
  }
 },
 "nbformat": 4,
 "nbformat_minor": 5
}
